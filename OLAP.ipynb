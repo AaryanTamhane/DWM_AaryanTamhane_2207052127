import pandas as pd
import numpy as np
# Creating the dataset
data = {
    'Year': [2023, 2023, 2023, 2024, 2024, 2024],
    'Quarter': ['Q1', 'Q2', 'Q3', 'Q1', 'Q2', 'Q3'],
    'Region': ['North America', 'North America', 'Europe', 'Europe', 'Asia', 'Asia'],
    'Country': ['USA', 'Canada', 'UK', 'Germany', 'India', 'China'],
    'Category': ['Electronics', 'Clothing', 'Electronics', 'Clothing', 'Electronics', 'Clothing'],
    'Product Name': ['Laptop', 'T-Shirt', 'Smartphone', 'Jacket', 'Tablet', 'Shoes'],
    'Sales': [10000, 7000, 15000, 9000, 11000, 8000]
}
df = pd.DataFrame(data)
print("Original Data:")
print(df)
# 1. Roll-Up (Aggregate Sales by Year)
rollup_df = df.groupby('Year', as_index=False)['Sales'].sum()
print("\nRoll-Up (Aggregate Sales by Year):")
print(rollup_df)
# 2. Drill-Down (Sales by Year and Quarter)
drilldown_df = df.groupby(['Year', 'Quarter'], as_index=False)['Sales'].sum()
print("\nDrill-Down (Sales by Year and Quarter):")
print(drilldown_df)
# 3. Slice (Data for Year 2023)
slice_df = df[df['Year'] == 2023]
print("\nSlice (Data for Year 2023):")
print(slice_df)
# 4. Dice (Sales for Year 2023 and Region 'North America')
dice_df = df[(df['Year'] == 2023) & (df['Region'] == 'North America')]
print("\nDice (Sales for Year 2023 and Region 'North America'):")
print(dice_df)
# 5. Pivot Table Visualization
pivot_table = df.pivot_table(values='Sales', index='Year', columns='Region', aggfunc=np.sum, fill_value=0)
print("\nPivot Table (Sales by Year and Region):")
print(pivot_table)
